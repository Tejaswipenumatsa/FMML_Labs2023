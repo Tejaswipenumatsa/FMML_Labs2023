{
  "nbformat": 4,
  "nbformat_minor": 0,
  "metadata": {
    "colab": {
      "provenance": [],
      "authorship_tag": "ABX9TyNNRrUkFlYEyf1FAVGP+ofa",
      "include_colab_link": true
    },
    "kernelspec": {
      "name": "python3",
      "display_name": "Python 3"
    },
    "language_info": {
      "name": "python"
    }
  },
  "cells": [
    {
      "cell_type": "markdown",
      "metadata": {
        "id": "view-in-github",
        "colab_type": "text"
      },
      "source": [
        "<a href=\"https://colab.research.google.com/github/Tejaswipenumatsa/FMML_Labs2023/blob/main/Tejaswini_319.ipynb\" target=\"_parent\"><img src=\"https://colab.research.google.com/assets/colab-badge.svg\" alt=\"Open In Colab\"/></a>"
      ]
    },
    {
      "cell_type": "code",
      "metadata": {
        "colab": {
          "base_uri": "https://localhost:8080/"
        },
        "id": "982e79ac",
        "outputId": "12566aea-7d88-45c0-96b1-47e14e319b4f"
      },
      "source": [
        "M = int(input(\"Enter the starting number (M): \"))\n",
        "N = int(input(\"Enter the ending number (N): \"))\n",
        "\n",
        "sum_of_cubes = 0\n",
        "for num in range(M, N + 1):\n",
        "  sum_of_cubes += num**3\n",
        "\n",
        "print(\"The sum of the cubes from\", M, \"to\", N, \"is:\", sum_of_cubes)"
      ],
      "execution_count": null,
      "outputs": [
        {
          "output_type": "stream",
          "name": "stdout",
          "text": [
            "Enter the starting number (M): 2\n",
            "Enter the ending number (N): 5\n",
            "The sum of the cubes from 2 to 5 is: 224\n"
          ]
        }
      ]
    },
    {
      "cell_type": "code",
      "metadata": {
        "colab": {
          "base_uri": "https://localhost:8080/"
        },
        "id": "3c8441e8",
        "outputId": "5a78ba20-586e-4a88-f2d1-1cc455b26b96"
      },
      "source": [
        "num_str = input(\"Enter a number: \")\n",
        "num = int(num_str)\n",
        "order = len(num_str)\n",
        "\n",
        "sum_of_powers = sum(int(digit) ** order for digit in num_str)\n",
        "\n",
        "if num == sum_of_powers:\n",
        "   print(num, \"is an Armstrong number\")\n",
        "else:\n",
        "   print(num, \"is not an Armstrong number\")"
      ],
      "execution_count": null,
      "outputs": [
        {
          "output_type": "stream",
          "name": "stdout",
          "text": [
            "Enter a number: 153\n",
            "153 is an Armstrong number\n"
          ]
        }
      ]
    },
    {
      "cell_type": "code",
      "metadata": {
        "colab": {
          "base_uri": "https://localhost:8080/"
        },
        "id": "e3d566f6",
        "outputId": "db00d684-3196-4825-e63e-43c6bd6fa955"
      },
      "source": [
        "input_string = input(\"Enter a string: \")\n",
        "reversed_string = input_string[::-1]\n",
        "print(\"The string in reverse order is:\", reversed_string)"
      ],
      "execution_count": null,
      "outputs": [
        {
          "output_type": "stream",
          "name": "stdout",
          "text": [
            "Enter a string: pencil\n",
            "The string in reverse order is: licnep\n"
          ]
        }
      ]
    },
    {
      "cell_type": "code",
      "metadata": {
        "colab": {
          "base_uri": "https://localhost:8080/"
        },
        "id": "3b485025",
        "outputId": "722c7a9f-46d9-4819-f79f-320e411d2e2a"
      },
      "source": [
        "A, B = int(input(\"Enter start (A): \")), int(input(\"Enter end (B): \"))\n",
        "if 1 <= A <= B:\n",
        "    num_perfect_squares = sum(1 for i in range(A, B + 1) if (i**0.5).is_integer())\n",
        "    print(f\"Perfect squares: {num_perfect_squares}\")\n",
        "else:\n",
        "    print(\"Invalid input: Ensure 1 <= A <= B\")"
      ],
      "execution_count": null,
      "outputs": [
        {
          "output_type": "stream",
          "name": "stdout",
          "text": [
            "Enter start (A): 9\n",
            "Enter end (B): 100\n",
            "Perfect squares: 8\n"
          ]
        }
      ]
    },
    {
      "cell_type": "code",
      "metadata": {
        "colab": {
          "base_uri": "https://localhost:8080/"
        },
        "id": "b7a1f082",
        "outputId": "f0511247-c016-4d53-9dfe-82aa1e0a3a34"
      },
      "source": [
        "n = int(input(\"Enter the number of elements (N): \"))\n",
        "my_list = []\n",
        "\n",
        "print(f\"Enter {n} numbers, one per 4line:\")\n",
        "for _ in range(n):\n",
        "    my_list.append(int(input()))\n",
        "\n",
        "print(\"The created list is:\", my_list)"
      ],
      "execution_count": null,
      "outputs": [
        {
          "output_type": "stream",
          "name": "stdout",
          "text": [
            "Enter the number of elements (N): 5\n",
            "Enter 5 numbers, one per 4line:\n",
            "4\n",
            "1\n",
            "2\n",
            "3\n",
            "4\n",
            "The created list is: [4, 1, 2, 3, 4]\n"
          ]
        }
      ]
    }
  ]
}